{
 "cells": [
  {
   "cell_type": "code",
   "execution_count": 8,
   "metadata": {},
   "outputs": [],
   "source": [
    "import chess\n",
    "import chess.pgn\n",
    "from io import StringIO\n",
    "import stockfish"
   ]
  },
  {
   "cell_type": "code",
   "execution_count": 4,
   "metadata": {},
   "outputs": [
    {
     "name": "stdout",
     "output_type": "stream",
     "text": [
      "pgn finished\n",
      "[Event \"Rated Bullet tournament https://lichess.org/tournament/wqEDRBia\"]\n",
      "[Site \"https://lichess.org/EeKb62cG\"]\n",
      "[Date \"2019.08.01\"]\n",
      "[Round \"-\"]\n",
      "[White \"Karnak13\"]\n",
      "[Black \"Sergiomeira8\"]\n",
      "[Result \"1-0\"]\n",
      "[UTCDate \"2019.08.01\"]\n",
      "[UTCTime \"00:00:00\"]\n",
      "[WhiteElo \"1752\"]\n",
      "[BlackElo \"1534\"]\n",
      "[WhiteRatingDiff \"+5\"]\n",
      "[BlackRatingDiff \"-5\"]\n",
      "[ECO \"D31\"]\n",
      "[Opening \"Semi-Slav Defense: Accelerated Move Order\"]\n",
      "[TimeControl \"120+1\"]\n",
      "[Termination \"Time forfeit\"]\n",
      "\n",
      "1. d4 { [%clk 0:02:00] } e6 { [%clk 0:02:00] } 2. c4 { [%clk 0:01:59] } d5 { [%clk 0:01:59] } 3. Nc3 { [%clk 0:01:58] } c6 { [%clk 0:01:59] } 4. cxd5 { [%clk 0:01:58] } exd5 { [%clk 0:01:58] } 5. Nf3 { [%clk 0:01:58] } Nf6 { [%clk 0:01:59] } 6. Bg5 { [%clk 0:01:58] } Be7 { [%clk 0:01:58] } 7. e3 { [%clk 0:01:58] } Ne4 { [%clk 0:01:54] } 8. Bxe7 { [%clk 0:01:57] } Qxe7 { [%clk 0:01:54] } 9. Rc1 { [%clk 0:01:57] } O-O { [%clk 0:01:52] } 10. Bd3 { [%clk 0:01:56] } f5 { [%clk 0:01:52] } 11. Ne5 { [%clk 0:01:55] } Nd7 { [%clk 0:01:42] } 12. Nxd7 { [%clk 0:01:54] } Bxd7 { [%clk 0:01:41] } 13. O-O { [%clk 0:01:54] } Rf6 { [%clk 0:01:37] } 14. Qb3 { [%clk 0:01:52] } Be6 { [%clk 0:01:23] } 15. Nxe4 { [%clk 0:01:48] } fxe4 { [%clk 0:01:20] } 16. Be2 { [%clk 0:01:45] } Raf8 { [%clk 0:01:16] } 17. a4 { [%clk 0:01:43] } Rh6 { [%clk 0:01:10] } 18. g3 { [%clk 0:01:30] } Qf7 { [%clk 0:00:52] } 19. a5 { [%clk 0:01:26] } Bh3 { [%clk 0:00:52] } 20. a6 { [%clk 0:01:21] } b6 { [%clk 0:00:43] } 21. Qd1 { [%clk 0:01:08] } Rf6 { [%clk 0:00:32] } 22. Qe1 { [%clk 0:00:51] } Bxf1 { [%clk 0:00:26] } 23. Qxf1 { [%clk 0:00:51] } Rxf2 { [%clk 0:00:23] } 24. Qe1 { [%clk 0:00:51] } Rf6 { [%clk 0:00:15] } 25. Kg2 { [%clk 0:00:48] } Qd7 { [%clk 0:00:10] } 26. b4 { [%clk 0:00:42] } g6 { [%clk 0:00:10] } 27. h3 { [%clk 0:00:39] } h5 { [%clk 0:00:10] } 28. Kg1 { [%clk 0:00:35] } Qd6 { [%clk 0:00:09] } 29. Kg2 { [%clk 0:00:33] } Rf5 { [%clk 0:00:08] } 30. g4 { [%clk 0:00:31] } hxg4 { [%clk 0:00:07] } 31. Bxg4 { [%clk 0:00:31] } Rg5 { [%clk 0:00:07] } 32. Qg3 { [%clk 0:00:29] } Qxg3+ { [%clk 0:00:05] } 33. Kxg3 { [%clk 0:00:29] } Rf6 { [%clk 0:00:04] } 34. b5 { [%clk 0:00:27] } cxb5 { [%clk 0:00:03] } 35. Rc8+ { [%clk 0:00:26] } Kg7 { [%clk 0:00:02] } 36. Rc7+ { [%clk 0:00:26] } Rf7 { [%clk 0:00:02] } 37. Rb7 { [%clk 0:00:26] } 1-0\n",
      "\n",
      "\n",
      "pgn finished\n",
      "[Event \"Rated Bullet tournament https://lichess.org/tournament/wqEDRBia\"]\n",
      "[Site \"https://lichess.org/y1vpWdnP\"]\n",
      "[Date \"2019.08.01\"]\n",
      "[Round \"-\"]\n",
      "[White \"Princepe28\"]\n",
      "[Black \"HojeNao\"]\n",
      "[Result \"0-1\"]\n",
      "[UTCDate \"2019.08.01\"]\n",
      "[UTCTime \"00:00:00\"]\n",
      "[WhiteElo \"1832\"]\n",
      "[BlackElo \"1861\"]\n",
      "[WhiteRatingDiff \"-9\"]\n",
      "[BlackRatingDiff \"+9\"]\n",
      "[ECO \"C00\"]\n",
      "[Opening \"French Defense: Two Knights Variation\"]\n",
      "[TimeControl \"120+1\"]\n",
      "[Termination \"Normal\"]\n",
      "\n",
      "1. e4 { [%clk 0:02:00] } e6 { [%clk 0:02:00] } 2. Nf3 { [%clk 0:02:00] } d5 { [%clk 0:02:01] } 3. Nc3 { [%clk 0:01:59] } Nf6 { [%clk 0:02:00] } 4. e5 { [%clk 0:01:56] } Nfd7 { [%clk 0:01:59] } 5. d4 { [%clk 0:01:55] } c5 { [%clk 0:01:57] } 6. Bb5 { [%clk 0:01:54] } a6 { [%clk 0:01:54] } 7. Bxd7+ { [%clk 0:01:51] } Bxd7 { [%clk 0:01:50] } 8. O-O { [%clk 0:01:51] } Nc6 { [%clk 0:01:48] } 9. Be3 { [%clk 0:01:46] } b6 { [%clk 0:01:44] } 10. Re1 { [%clk 0:01:45] } Be7 { [%clk 0:01:43] } 11. a3 { [%clk 0:01:41] } h6 { [%clk 0:01:29] } 12. Kh1 { [%clk 0:01:39] } Qc7 { [%clk 0:01:24] } 13. Qd2 { [%clk 0:01:38] } c4 { [%clk 0:01:20] } 14. b3 { [%clk 0:01:26] } b5 { [%clk 0:01:19] } 15. b4 { [%clk 0:01:22] } g5 { [%clk 0:01:07] } 16. h3 { [%clk 0:01:16] } Rg8 { [%clk 0:01:04] } 17. g4 { [%clk 0:01:13] } O-O-O { [%clk 0:01:03] } 18. Reb1 { [%clk 0:01:09] } Rh8 { [%clk 0:01:01] } 19. Ne2 { [%clk 0:01:04] } Rdg8 { [%clk 0:00:58] } 20. Ng3 { [%clk 0:00:52] } h5 { [%clk 0:00:55] } 21. Nxh5 { [%clk 0:00:47] } Rxh5 { [%clk 0:00:55] } 22. gxh5 { [%clk 0:00:47] } g4 { [%clk 0:00:55] } 23. hxg4 { [%clk 0:00:42] } Rxg4 { [%clk 0:00:54] } 24. Rg1 { [%clk 0:00:41] } f5 { [%clk 0:00:53] } 25. Rxg4 { [%clk 0:00:36] } fxg4 { [%clk 0:00:53] } 26. Ng5 { [%clk 0:00:35] } Qd8 { [%clk 0:00:51] } 27. h6 { [%clk 0:00:20] } Qh8 { [%clk 0:00:50] } 28. h7 { [%clk 0:00:13] } Bxg5 { [%clk 0:00:49] } 29. Bxg5 { [%clk 0:00:13] } Qxh7+ { [%clk 0:00:49] } 30. Kg1 { [%clk 0:00:11] } Qh5 { [%clk 0:00:42] } 31. Kf1 { [%clk 0:00:09] } Qh1+ { [%clk 0:00:39] } 32. Ke2 { [%clk 0:00:08] } Qxa1 { [%clk 0:00:39] } 33. Bh4 { [%clk 0:00:06] } Qxd4 { [%clk 0:00:37] } 34. Qxd4 { [%clk 0:00:06] } Nxd4+ { [%clk 0:00:37] } 35. Ke3 { [%clk 0:00:05] } Nf5+ { [%clk 0:00:37] } 0-1\n",
      "\n",
      "\n"
     ]
    }
   ],
   "source": [
    "games = 0\n",
    "game = []\n",
    "after_moves = False\n",
    "after_pgn = False\n",
    "parsed_games = []\n",
    "firstline = True\n",
    "with open('F:/lichess/august_games.pgn', 'r') as f:\n",
    "    for line in f:\n",
    "        game.append(line)\n",
    "        if line == '\\n':\n",
    "            if after_moves:\n",
    "                after_pgn = True\n",
    "                after_moves = False\n",
    "            else:\n",
    "                after_moves = True\n",
    "        if after_pgn:\n",
    "            parsed_games.append(chess.pgn.read_game(StringIO(''.join(game))))\n",
    "            game = []\n",
    "            games += 1\n",
    "            after_pgn = False\n",
    "        if games >= 2:\n",
    "            break"
   ]
  },
  {
   "cell_type": "code",
   "execution_count": 7,
   "metadata": {
    "scrolled": true
   },
   "outputs": [
    {
     "data": {
      "text/plain": [
       "'2k5/3b4/p3p3/1p1pPn2/1Pp3pB/P3K3/2P2P2/8 w - - 2 36'"
      ]
     },
     "execution_count": 7,
     "metadata": {},
     "output_type": "execute_result"
    }
   ],
   "source": [
    "parsed_games[1].end().board().fen()"
   ]
  },
  {
   "cell_type": "code",
   "execution_count": 9,
   "metadata": {},
   "outputs": [
    {
     "ename": "FileNotFoundError",
     "evalue": "[WinError 2] The system cannot find the file specified",
     "output_type": "error",
     "traceback": [
      "\u001b[1;31m---------------------------------------------------------------------------\u001b[0m",
      "\u001b[1;31mFileNotFoundError\u001b[0m                         Traceback (most recent call last)",
      "\u001b[1;32m<ipython-input-9-5f42cf7f7d21>\u001b[0m in \u001b[0;36m<module>\u001b[1;34m()\u001b[0m\n\u001b[1;32m----> 1\u001b[1;33m \u001b[0mstockfish\u001b[0m\u001b[1;33m.\u001b[0m\u001b[0mStockfish\u001b[0m\u001b[1;33m(\u001b[0m\u001b[1;33m)\u001b[0m\u001b[1;33m\u001b[0m\u001b[0m\n\u001b[0m",
      "\u001b[1;32mc:\\python37\\lib\\site-packages\\stockfish\\models.py\u001b[0m in \u001b[0;36m__init__\u001b[1;34m(self, path, depth, param)\u001b[0m\n\u001b[0;32m     22\u001b[0m             \u001b[0mpath\u001b[0m \u001b[1;33m=\u001b[0m \u001b[1;34m\"stockfish\"\u001b[0m\u001b[1;33m\u001b[0m\u001b[0m\n\u001b[0;32m     23\u001b[0m         self.stockfish = subprocess.Popen(\n\u001b[1;32m---> 24\u001b[1;33m             \u001b[0mpath\u001b[0m\u001b[1;33m,\u001b[0m \u001b[0muniversal_newlines\u001b[0m\u001b[1;33m=\u001b[0m\u001b[1;32mTrue\u001b[0m\u001b[1;33m,\u001b[0m \u001b[0mstdin\u001b[0m\u001b[1;33m=\u001b[0m\u001b[0msubprocess\u001b[0m\u001b[1;33m.\u001b[0m\u001b[0mPIPE\u001b[0m\u001b[1;33m,\u001b[0m \u001b[0mstdout\u001b[0m\u001b[1;33m=\u001b[0m\u001b[0msubprocess\u001b[0m\u001b[1;33m.\u001b[0m\u001b[0mPIPE\u001b[0m\u001b[1;33m\u001b[0m\u001b[0m\n\u001b[0m\u001b[0;32m     25\u001b[0m         )\n\u001b[0;32m     26\u001b[0m         \u001b[0mself\u001b[0m\u001b[1;33m.\u001b[0m\u001b[0mdepth\u001b[0m \u001b[1;33m=\u001b[0m \u001b[0mstr\u001b[0m\u001b[1;33m(\u001b[0m\u001b[0mdepth\u001b[0m\u001b[1;33m)\u001b[0m\u001b[1;33m\u001b[0m\u001b[0m\n",
      "\u001b[1;32mc:\\python37\\lib\\subprocess.py\u001b[0m in \u001b[0;36m__init__\u001b[1;34m(self, args, bufsize, executable, stdin, stdout, stderr, preexec_fn, close_fds, shell, cwd, env, universal_newlines, startupinfo, creationflags, restore_signals, start_new_session, pass_fds, encoding, errors, text)\u001b[0m\n\u001b[0;32m    754\u001b[0m                                 \u001b[0mc2pread\u001b[0m\u001b[1;33m,\u001b[0m \u001b[0mc2pwrite\u001b[0m\u001b[1;33m,\u001b[0m\u001b[1;33m\u001b[0m\u001b[0m\n\u001b[0;32m    755\u001b[0m                                 \u001b[0merrread\u001b[0m\u001b[1;33m,\u001b[0m \u001b[0merrwrite\u001b[0m\u001b[1;33m,\u001b[0m\u001b[1;33m\u001b[0m\u001b[0m\n\u001b[1;32m--> 756\u001b[1;33m                                 restore_signals, start_new_session)\n\u001b[0m\u001b[0;32m    757\u001b[0m         \u001b[1;32mexcept\u001b[0m\u001b[1;33m:\u001b[0m\u001b[1;33m\u001b[0m\u001b[0m\n\u001b[0;32m    758\u001b[0m             \u001b[1;31m# Cleanup if the child failed starting.\u001b[0m\u001b[1;33m\u001b[0m\u001b[1;33m\u001b[0m\u001b[0m\n",
      "\u001b[1;32mc:\\python37\\lib\\subprocess.py\u001b[0m in \u001b[0;36m_execute_child\u001b[1;34m(self, args, executable, preexec_fn, close_fds, pass_fds, cwd, env, startupinfo, creationflags, shell, p2cread, p2cwrite, c2pread, c2pwrite, errread, errwrite, unused_restore_signals, unused_start_new_session)\u001b[0m\n\u001b[0;32m   1153\u001b[0m                                          \u001b[0menv\u001b[0m\u001b[1;33m,\u001b[0m\u001b[1;33m\u001b[0m\u001b[0m\n\u001b[0;32m   1154\u001b[0m                                          \u001b[0mos\u001b[0m\u001b[1;33m.\u001b[0m\u001b[0mfspath\u001b[0m\u001b[1;33m(\u001b[0m\u001b[0mcwd\u001b[0m\u001b[1;33m)\u001b[0m \u001b[1;32mif\u001b[0m \u001b[0mcwd\u001b[0m \u001b[1;32mis\u001b[0m \u001b[1;32mnot\u001b[0m \u001b[1;32mNone\u001b[0m \u001b[1;32melse\u001b[0m \u001b[1;32mNone\u001b[0m\u001b[1;33m,\u001b[0m\u001b[1;33m\u001b[0m\u001b[0m\n\u001b[1;32m-> 1155\u001b[1;33m                                          startupinfo)\n\u001b[0m\u001b[0;32m   1156\u001b[0m             \u001b[1;32mfinally\u001b[0m\u001b[1;33m:\u001b[0m\u001b[1;33m\u001b[0m\u001b[0m\n\u001b[0;32m   1157\u001b[0m                 \u001b[1;31m# Child is launched. Close the parent's copy of those pipe\u001b[0m\u001b[1;33m\u001b[0m\u001b[1;33m\u001b[0m\u001b[0m\n",
      "\u001b[1;31mFileNotFoundError\u001b[0m: [WinError 2] The system cannot find the file specified"
     ]
    }
   ],
   "source": [
    "stockfish.Stockfish()"
   ]
  },
  {
   "cell_type": "code",
   "execution_count": 16,
   "metadata": {},
   "outputs": [
    {
     "data": {
      "text/plain": [
       "<Game at 0x1aa2dbf0e48 ('siddhartha13' vs. 'rhymmasta', '2019.09.10')>"
      ]
     },
     "execution_count": 16,
     "metadata": {},
     "output_type": "execute_result"
    }
   ],
   "source": [
    "chess.pgn.read_game(StringIO(\"\"\"[Event \"Rated Bullet game\"]\n",
    "[Site \"https://lichess.org/E7UGK7Vl\"]\n",
    "[Date \"2019.09.10\"]\n",
    "[Round \"-\"]\n",
    "[White \"siddhartha13\"]\n",
    "[Black \"rhymmasta\"]\n",
    "[Result \"0-1\"]\n",
    "[UTCDate \"2019.09.10\"]\n",
    "\n",
    "[UTCTime \"00:52:40\"]\n",
    "[WhiteElo \"1974\"]\n",
    "[BlackElo \"1942\"]\n",
    "[WhiteRatingDiff \"-8\"]\n",
    "[BlackRatingDiff \"+8\"]\n",
    "[Variant \"Standard\"]\n",
    "[TimeControl \"60+0\"]\n",
    "[ECO \"A45\"]\n",
    "[Opening \"Indian Game\"]\n",
    "[Termination \"Time forfeit\"]\n",
    "[Annotator \"lichess.org\"]\n",
    "\n",
    "1. d4 Nf6 { A45 Indian Game } 2. Bf4 g6 3. e3 Bg7 4. c3 d6 5. Nd2 O-O 6. Ngf3 Nc6 7. Bd3 Nd7 8. Qc2 e5 9. dxe5 Ndxe5 10. Nxe5 Nxe5 11. Nf3 Nxd3+ 12. Qxd3 Bf5 13. Qe2 a5 14. O-O a4 15. a3 c6 16. Rad1 d5 17. Nd4 Bc8 18. Qf3 f5 19. Qg3 Qf6 20. Bd6 Rd8 21. Bc7 Rd7 22. Bb6 Ra6 23. Bc5 b6 24. Bxb6 Rxb6 25. b4 axb3 26. Rb1 b2 27. Rfe1 Ba6 28. Red1 Rdb7 29. Rd2 c5 30. Nc2 Qxc3 { Black wins on time. } 0-1\n",
    "\n",
    "\n",
    "\"\"\"\n",
    "                            ))"
   ]
  },
  {
   "cell_type": "code",
   "execution_count": null,
   "metadata": {},
   "outputs": [],
   "source": []
  }
 ],
 "metadata": {
  "kernelspec": {
   "display_name": "Python 3",
   "language": "python",
   "name": "python3"
  },
  "language_info": {
   "codemirror_mode": {
    "name": "ipython",
    "version": 3
   },
   "file_extension": ".py",
   "mimetype": "text/x-python",
   "name": "python",
   "nbconvert_exporter": "python",
   "pygments_lexer": "ipython3",
   "version": "3.7.0"
  }
 },
 "nbformat": 4,
 "nbformat_minor": 2
}
