{
 "cells": [
  {
   "cell_type": "code",
   "execution_count": 1,
   "metadata": {},
   "outputs": [],
   "source": [
    "import chess\n",
    "import chess.pgn\n",
    "from io import StringIO\n",
    "import stockfish\n",
    "import re\n",
    "import pandas as pd\n",
    "import time"
   ]
  },
  {
   "cell_type": "code",
   "execution_count": null,
   "metadata": {},
   "outputs": [],
   "source": [
    "games = 0\n",
    "game = []\n",
    "after_moves = False\n",
    "after_pgn = False\n",
    "parsed_games = []\n",
    "firstline = True\n",
    "game_infos = []\n",
    "sf = stockfish.Stockfish('./stockfish-10-win/Windows/stockfish_10_x64.exe',\n",
    "                         depth=8)\n",
    "df = pd.DataFrame([],\n",
    "                  dtype='int16',\n",
    "                  columns=['game_link',\n",
    "                           'white',\n",
    "                           'black',\n",
    "                           'sf_rating',\n",
    "                           'end',\n",
    "                           'time_control',\n",
    "                           'white_elo',\n",
    "                           'black_elo',\n",
    "                           'result'])\n",
    "start = time.time()\n",
    "with open('F:/lichess/august_games.pgn', 'r') as f:\n",
    "    for line in f:\n",
    "        game.append(line)\n",
    "        if line == '\\n':\n",
    "            if after_moves:\n",
    "                after_pgn = True\n",
    "                after_moves = False\n",
    "            else:\n",
    "                after_moves = True\n",
    "        if after_pgn:\n",
    "            parsed_game = chess.pgn.read_game(StringIO(''.join(game)))\n",
    "            game = []\n",
    "            games += 1\n",
    "            after_pgn = False\n",
    "            \n",
    "            fen = parsed_game.end().board().fen()\n",
    "            end = parsed_game.headers['Termination']\n",
    "            game_link = parsed_game.headers['Site'][20:]\n",
    "            black = parsed_game.headers['Black']\n",
    "            white = parsed_game.headers['White']\n",
    "            time_control = parsed_game.headers['TimeControl']\n",
    "            white_elo = int(parsed_game.headers['WhiteElo'])\n",
    "            black_elo = int(parsed_game.headers['BlackElo'])\n",
    "            result = parsed_game.headers['Result']\n",
    "            \n",
    "            sf.set_fen_position(fen)\n",
    "            sf.get_best_move()\n",
    "            info_string = sf.info\n",
    "            \n",
    "            rating_match = re.search(r'score (cp|mate) (.+?)(?: |$)',info_string)\n",
    "            if rating_match.group(1) == 'mate':\n",
    "                original_rating = int(rating_match.group(2))\n",
    "                if original_rating:\n",
    "                    rating = 9999 * original_rating / abs(original_rating)\n",
    "                elif parsed_game.headers['Result'] == '1-0':\n",
    "                    rating = 9999\n",
    "                else:\n",
    "                    rating = -9999\n",
    "            else:\n",
    "                rating = int(rating_match.group(2))\n",
    "            if ' b ' in fen:\n",
    "                rating *= -1\n",
    "            game_infos.append([game_link, white, black, rating, end, time_control, white_elo, black_elo, result])\n",
    "        if games % 10000 == 0:\n",
    "            new_df = pd.DataFrame(game_infos,\n",
    "                                  dtype='int16',\n",
    "                                  columns=['game_link',\n",
    "                                           'white',\n",
    "                                           'black',\n",
    "                                           'sf_rating',\n",
    "                                           'end',\n",
    "                                           'time_control',\n",
    "                                           'white_elo',\n",
    "                                           'black_elo',\n",
    "                                           'result'])\n",
    "            df = pd.concat([df, new_df], axis=0, sort=False)\n",
    "            game_infos = []\n",
    "print(time.time() - start)"
   ]
  },
  {
   "cell_type": "code",
   "execution_count": null,
   "metadata": {},
   "outputs": [],
   "source": [
    "df.to_pickle('massive-df.pckl',compression='bz2')"
   ]
  },
  {
   "cell_type": "code",
   "execution_count": null,
   "metadata": {},
   "outputs": [],
   "source": [
    "df.info(memory_usage='deep')"
   ]
  },
  {
   "cell_type": "code",
   "execution_count": null,
   "metadata": {},
   "outputs": [],
   "source": [
    "df.head()"
   ]
  },
  {
   "cell_type": "code",
   "execution_count": null,
   "metadata": {},
   "outputs": [],
   "source": [
    "del(df)"
   ]
  },
  {
   "cell_type": "code",
   "execution_count": 125,
   "metadata": {},
   "outputs": [
    {
     "data": {
      "text/plain": [
       "11.705875396728516"
      ]
     },
     "execution_count": 125,
     "metadata": {},
     "output_type": "execute_result"
    }
   ],
   "source": [
    "approx_mem_usage = ((36.75 * 1000000)  # game count\n",
    "                    * 33.4  # memory usage for 100 rows\n",
    "                    / 100  # 100 rows\n",
    "                   )\n",
    "approx_mem_usage / (1024 * 1024)  # in gb"
   ]
  },
  {
   "cell_type": "code",
   "execution_count": 48,
   "metadata": {},
   "outputs": [],
   "source": [
    "sf = stockfish.Stockfish('./stockfish-10-win/Windows/stockfish_10_x64.exe',\n",
    "                         depth=22)"
   ]
  },
  {
   "cell_type": "code",
   "execution_count": 7,
   "metadata": {},
   "outputs": [],
   "source": [
    "sf.set_fen_position('r3k3/pp3pb1/8/2p1P3/2Pp1pN1/1P1P4/3NRP2/2q1K3 w q - 1 26')"
   ]
  },
  {
   "cell_type": "code",
   "execution_count": 52,
   "metadata": {},
   "outputs": [],
   "source": [
    "sf.set_position(['e2e4'])"
   ]
  },
  {
   "cell_type": "code",
   "execution_count": 8,
   "metadata": {},
   "outputs": [
    {
     "data": {
      "text/plain": [
       "'info depth 18 seldepth 15 multipv 1 score cp 0 nodes 2058685 nps 2462541 tbhits 0 time 836 pv h5e5 f7f6 b2b4 d6e6 e5d4 g7f7 d4a7 f7f8 b4b5 f6g6 g2f3 g6f6 f3g3 f6g6'"
      ]
     },
     "execution_count": 8,
     "metadata": {},
     "output_type": "execute_result"
    }
   ],
   "source": [
    "sf.get_best_move()\n",
    "sf.info"
   ]
  },
  {
   "cell_type": "code",
   "execution_count": 60,
   "metadata": {},
   "outputs": [],
   "source": [
    "info_str = 'info depth 22 seldepth 36 multipv 1 score cp 1493 nodes 552164 nps 3119570 tbhits 0 time 177 pv b5b4 b7f7 g7f7 g3f4 g5g4 h3g4 b4b3 f4e5 b3b2 e5d5 b2b1q d5e5 b1d3 d4d5 d3e3 d5d6 e3d3 e5f4 e4e3 f4f3 e3e2 f3f2 d3e4 f2e1 e4g4'"
   ]
  },
  {
   "cell_type": "code",
   "execution_count": 61,
   "metadata": {},
   "outputs": [],
   "source": []
  },
  {
   "cell_type": "code",
   "execution_count": 64,
   "metadata": {},
   "outputs": [],
   "source": [
    "match = re.search(r'score (cp|mate) (.+?) ',info_str)"
   ]
  },
  {
   "cell_type": "code",
   "execution_count": 65,
   "metadata": {},
   "outputs": [
    {
     "data": {
      "text/plain": [
       "'1493'"
      ]
     },
     "execution_count": 65,
     "metadata": {},
     "output_type": "execute_result"
    }
   ],
   "source": [
    "match.group(1)"
   ]
  },
  {
   "cell_type": "code",
   "execution_count": null,
   "metadata": {},
   "outputs": [],
   "source": []
  }
 ],
 "metadata": {
  "kernelspec": {
   "display_name": "Python 3",
   "language": "python",
   "name": "python3"
  },
  "language_info": {
   "codemirror_mode": {
    "name": "ipython",
    "version": 3
   },
   "file_extension": ".py",
   "mimetype": "text/x-python",
   "name": "python",
   "nbconvert_exporter": "python",
   "pygments_lexer": "ipython3",
   "version": "3.7.0"
  }
 },
 "nbformat": 4,
 "nbformat_minor": 2
}
