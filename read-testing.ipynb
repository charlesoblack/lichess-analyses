{
 "cells": [
  {
   "cell_type": "code",
   "execution_count": 19,
   "metadata": {},
   "outputs": [],
   "source": [
    "import chess\n",
    "import chess.pgn\n",
    "from io import StringIO\n",
    "import stockfish\n",
    "import re\n",
    "import pandas as pd"
   ]
  },
  {
   "cell_type": "code",
   "execution_count": 53,
   "metadata": {},
   "outputs": [
    {
     "name": "stdout",
     "output_type": "stream",
     "text": [
      "0.9792122840881348\n"
     ]
    }
   ],
   "source": [
    "games = 0\n",
    "game = []\n",
    "after_moves = False\n",
    "after_pgn = False\n",
    "parsed_games = []\n",
    "firstline = True\n",
    "game_infos = []\n",
    "sf = stockfish.Stockfish('./stockfish-10-win/Windows/stockfish_10_x64.exe',\n",
    "                         depth=8)\n",
    "start = time.time()\n",
    "with open('F:/lichess/august_games.pgn', 'r') as f:\n",
    "    for line in f:\n",
    "        game.append(line)\n",
    "        if line == '\\n':\n",
    "            if after_moves:\n",
    "                after_pgn = True\n",
    "                after_moves = False\n",
    "            else:\n",
    "                after_moves = True\n",
    "        if after_pgn:\n",
    "            parsed_game = chess.pgn.read_game(StringIO(''.join(game)))\n",
    "            game = []\n",
    "            games += 1\n",
    "            after_pgn = False\n",
    "            \n",
    "            fen = parsed_game.end().board().fen()\n",
    "            end = parsed_game.headers['Termination']\n",
    "            game_link = parsed_game.headers['Site'][20:]\n",
    "            black = parsed_game.headers['Black']\n",
    "            white = parsed_game.headers['White']\n",
    "            time_control = parsed_game.headers['TimeControl']\n",
    "            white_elo = int(parsed_game.headers['WhiteElo'])\n",
    "            black_elo = int(parsed_game.headers['BlackElo'])\n",
    "            \n",
    "            sf.set_fen_position(fen)\n",
    "            sf.get_best_move()\n",
    "            info_string = sf.info\n",
    "            \n",
    "            rating_match = re.search(r'score (cp|mate) (.+?)(?: |$)',info_string)\n",
    "            if rating_match.group(1) == 'mate':\n",
    "                original_rating = int(rating_match.group(2))\n",
    "                if original_rating:\n",
    "                    rating = 9999 * original_rating / abs(original_rating)\n",
    "                elif parsed_game.headers['Result'] == '1-0':\n",
    "                    rating = 9999\n",
    "                else:\n",
    "                    rating = -9999\n",
    "            else:\n",
    "                rating = int(rating_match.group(2))\n",
    "            if ' b ' in fen:\n",
    "                rating *= -1\n",
    "            game_infos.append([game_link, white, black, rating, end, time_control, white_elo, black_elo])\n",
    "        if games >= 100:\n",
    "            break\n",
    "print(time.time() - start)"
   ]
  },
  {
   "cell_type": "code",
   "execution_count": 95,
   "metadata": {},
   "outputs": [],
   "source": [
    "transposed = list(map(list, zip(*game_infos)))"
   ]
  },
  {
   "cell_type": "code",
   "execution_count": 72,
   "metadata": {},
   "outputs": [
    {
     "data": {
      "text/plain": [
       "100"
      ]
     },
     "execution_count": 72,
     "metadata": {},
     "output_type": "execute_result"
    }
   ],
   "source": [
    "game_links = pd.Series(transposed[0],\n",
    "                       dtype='object')\n",
    "whites = pd.Series(transposed[1],\n",
    "                   dtype='object')\n",
    "blacks = pd.Series(transposed[2],\n",
    "                   dtype='object')\n",
    "ratings = pd.Series(transposed[3],\n",
    "                    dtype='object')\n",
    "ends = pd.Series(transposed[4],\n",
    "                 dtype='object')\n",
    "time_controls = pd.Series(transposed[5],\n",
    "                          dtype='object')\n",
    "white_elos = pd.Series(transposed[6],\n",
    "                       dtype='object')\n",
    "black_elos = pd.Series(transposed[7],\n",
    "                       dtype='object')"
   ]
  },
  {
   "cell_type": "code",
   "execution_count": 51,
   "metadata": {},
   "outputs": [],
   "source": [
    "df = pd.DataFrame(game_infos,\n",
    "                  columns=['game_link',\n",
    "                           'white',\n",
    "                           'black',\n",
    "                           'sf_rating',\n",
    "                           'finish_type',\n",
    "                           'time_control',\n",
    "                           'white_elo',\n",
    "                           'black_elo'],\n",
    "                  dtype='int16'\n",
    "                 )"
   ]
  },
  {
   "cell_type": "code",
   "execution_count": 52,
   "metadata": {},
   "outputs": [
    {
     "name": "stdout",
     "output_type": "stream",
     "text": [
      "<class 'pandas.core.frame.DataFrame'>\n",
      "RangeIndex: 100 entries, 0 to 99\n",
      "Data columns (total 8 columns):\n",
      "game_link       100 non-null object\n",
      "white           100 non-null object\n",
      "black           100 non-null object\n",
      "sf_rating       100 non-null int16\n",
      "finish_type     100 non-null object\n",
      "time_control    100 non-null object\n",
      "white_elo       100 non-null int16\n",
      "black_elo       100 non-null int16\n",
      "dtypes: int16(3), object(5)\n",
      "memory usage: 32.5 KB\n"
     ]
    }
   ],
   "source": [
    "df.info(memory_usage='deep')"
   ]
  },
  {
   "cell_type": "code",
   "execution_count": 45,
   "metadata": {},
   "outputs": [],
   "source": [
    "df['time_control'] = df['time_control'].astype('category')\n",
    "df['finish_type'] = df['finish_type'].astype('category')"
   ]
  },
  {
   "cell_type": "code",
   "execution_count": 39,
   "metadata": {},
   "outputs": [
    {
     "data": {
      "text/html": [
       "<div>\n",
       "<style scoped>\n",
       "    .dataframe tbody tr th:only-of-type {\n",
       "        vertical-align: middle;\n",
       "    }\n",
       "\n",
       "    .dataframe tbody tr th {\n",
       "        vertical-align: top;\n",
       "    }\n",
       "\n",
       "    .dataframe thead th {\n",
       "        text-align: right;\n",
       "    }\n",
       "</style>\n",
       "<table border=\"1\" class=\"dataframe\">\n",
       "  <thead>\n",
       "    <tr style=\"text-align: right;\">\n",
       "      <th></th>\n",
       "      <th>game_link</th>\n",
       "      <th>white</th>\n",
       "      <th>black</th>\n",
       "      <th>sf_rating</th>\n",
       "      <th>finish_type</th>\n",
       "      <th>time_control</th>\n",
       "      <th>white_elo</th>\n",
       "      <th>black_elo</th>\n",
       "    </tr>\n",
       "  </thead>\n",
       "  <tbody>\n",
       "    <tr>\n",
       "      <td>0</td>\n",
       "      <td>EeKb62cG</td>\n",
       "      <td>Karnak13</td>\n",
       "      <td>Sergiomeira8</td>\n",
       "      <td>-1144</td>\n",
       "      <td>Time forfeit</td>\n",
       "      <td>120+1</td>\n",
       "      <td>1752</td>\n",
       "      <td>1534</td>\n",
       "    </tr>\n",
       "    <tr>\n",
       "      <td>1</td>\n",
       "      <td>y1vpWdnP</td>\n",
       "      <td>Princepe28</td>\n",
       "      <td>HojeNao</td>\n",
       "      <td>-1152</td>\n",
       "      <td>Normal</td>\n",
       "      <td>120+1</td>\n",
       "      <td>1832</td>\n",
       "      <td>1861</td>\n",
       "    </tr>\n",
       "    <tr>\n",
       "      <td>2</td>\n",
       "      <td>FDuEtjq7</td>\n",
       "      <td>egypt7050</td>\n",
       "      <td>skippyboy</td>\n",
       "      <td>-9999</td>\n",
       "      <td>Normal</td>\n",
       "      <td>360+0</td>\n",
       "      <td>1219</td>\n",
       "      <td>1856</td>\n",
       "    </tr>\n",
       "    <tr>\n",
       "      <td>3</td>\n",
       "      <td>fMJIkFIV</td>\n",
       "      <td>elsadchess</td>\n",
       "      <td>Paparama</td>\n",
       "      <td>0</td>\n",
       "      <td>Time forfeit</td>\n",
       "      <td>180+0</td>\n",
       "      <td>2365</td>\n",
       "      <td>2480</td>\n",
       "    </tr>\n",
       "    <tr>\n",
       "      <td>4</td>\n",
       "      <td>1PsHgvDI</td>\n",
       "      <td>manesht</td>\n",
       "      <td>swinegobbler</td>\n",
       "      <td>0</td>\n",
       "      <td>Time forfeit</td>\n",
       "      <td>300+0</td>\n",
       "      <td>1804</td>\n",
       "      <td>1766</td>\n",
       "    </tr>\n",
       "  </tbody>\n",
       "</table>\n",
       "</div>"
      ],
      "text/plain": [
       "  game_link       white         black  sf_rating   finish_type time_control  \\\n",
       "0  EeKb62cG    Karnak13  Sergiomeira8      -1144  Time forfeit        120+1   \n",
       "1  y1vpWdnP  Princepe28       HojeNao      -1152        Normal        120+1   \n",
       "2  FDuEtjq7   egypt7050     skippyboy      -9999        Normal        360+0   \n",
       "3  fMJIkFIV  elsadchess      Paparama          0  Time forfeit        180+0   \n",
       "4  1PsHgvDI     manesht  swinegobbler          0  Time forfeit        300+0   \n",
       "\n",
       "   white_elo  black_elo  \n",
       "0       1752       1534  \n",
       "1       1832       1861  \n",
       "2       1219       1856  \n",
       "3       2365       2480  \n",
       "4       1804       1766  "
      ]
     },
     "execution_count": 39,
     "metadata": {},
     "output_type": "execute_result"
    }
   ],
   "source": [
    "df.head()"
   ]
  },
  {
   "cell_type": "code",
   "execution_count": 42,
   "metadata": {},
   "outputs": [
    {
     "data": {
      "text/plain": [
       "11.390447616577148"
      ]
     },
     "execution_count": 42,
     "metadata": {},
     "output_type": "execute_result"
    }
   ],
   "source": [
    "approx_mem_usage = ((36.75 * 1000000)  # game count\n",
    "                    * 32.5  # memory usage for 100 rows\n",
    "                    / 100  # 100 rows\n",
    "                   )\n",
    "approx_mem_usage / (1024 * 1024)  # in gb"
   ]
  },
  {
   "cell_type": "code",
   "execution_count": 48,
   "metadata": {},
   "outputs": [],
   "source": [
    "sf = stockfish.Stockfish('./stockfish-10-win/Windows/stockfish_10_x64.exe',\n",
    "                         depth=22)"
   ]
  },
  {
   "cell_type": "code",
   "execution_count": 7,
   "metadata": {},
   "outputs": [],
   "source": [
    "sf.set_fen_position('r3k3/pp3pb1/8/2p1P3/2Pp1pN1/1P1P4/3NRP2/2q1K3 w q - 1 26')"
   ]
  },
  {
   "cell_type": "code",
   "execution_count": 52,
   "metadata": {},
   "outputs": [],
   "source": [
    "sf.set_position(['e2e4'])"
   ]
  },
  {
   "cell_type": "code",
   "execution_count": 8,
   "metadata": {},
   "outputs": [
    {
     "data": {
      "text/plain": [
       "'info depth 18 seldepth 15 multipv 1 score cp 0 nodes 2058685 nps 2462541 tbhits 0 time 836 pv h5e5 f7f6 b2b4 d6e6 e5d4 g7f7 d4a7 f7f8 b4b5 f6g6 g2f3 g6f6 f3g3 f6g6'"
      ]
     },
     "execution_count": 8,
     "metadata": {},
     "output_type": "execute_result"
    }
   ],
   "source": [
    "sf.get_best_move()\n",
    "sf.info"
   ]
  },
  {
   "cell_type": "code",
   "execution_count": 60,
   "metadata": {},
   "outputs": [],
   "source": [
    "info_str = 'info depth 22 seldepth 36 multipv 1 score cp 1493 nodes 552164 nps 3119570 tbhits 0 time 177 pv b5b4 b7f7 g7f7 g3f4 g5g4 h3g4 b4b3 f4e5 b3b2 e5d5 b2b1q d5e5 b1d3 d4d5 d3e3 d5d6 e3d3 e5f4 e4e3 f4f3 e3e2 f3f2 d3e4 f2e1 e4g4'"
   ]
  },
  {
   "cell_type": "code",
   "execution_count": 61,
   "metadata": {},
   "outputs": [],
   "source": []
  },
  {
   "cell_type": "code",
   "execution_count": 64,
   "metadata": {},
   "outputs": [],
   "source": [
    "match = re.search(r'score (cp|mate) (.+?) ',info_str)"
   ]
  },
  {
   "cell_type": "code",
   "execution_count": 65,
   "metadata": {},
   "outputs": [
    {
     "data": {
      "text/plain": [
       "'1493'"
      ]
     },
     "execution_count": 65,
     "metadata": {},
     "output_type": "execute_result"
    }
   ],
   "source": [
    "match.group(1)"
   ]
  },
  {
   "cell_type": "code",
   "execution_count": null,
   "metadata": {},
   "outputs": [],
   "source": []
  }
 ],
 "metadata": {
  "kernelspec": {
   "display_name": "Python 3",
   "language": "python",
   "name": "python3"
  },
  "language_info": {
   "codemirror_mode": {
    "name": "ipython",
    "version": 3
   },
   "file_extension": ".py",
   "mimetype": "text/x-python",
   "name": "python",
   "nbconvert_exporter": "python",
   "pygments_lexer": "ipython3",
   "version": "3.7.0"
  }
 },
 "nbformat": 4,
 "nbformat_minor": 2
}
